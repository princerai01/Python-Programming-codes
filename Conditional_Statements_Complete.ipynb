{
  "nbformat": 4,
  "nbformat_minor": 0,
  "metadata": {
    "colab": {
      "provenance": []
    },
    "kernelspec": {
      "name": "python3",
      "display_name": "Python 3"
    },
    "language_info": {
      "name": "python"
    }
  },
  "cells": [
    {
      "cell_type": "markdown",
      "source": [
        "In a fare, the entry fee for children less than 4 years of age is 0 rupees(free of cost entry), the fee for children between 4-14 years of age is 100 rupees and for children beyond that age, the fee is 180 rupees.\n",
        "\n",
        "Take age as input from the user and display the entry fee"
      ],
      "metadata": {
        "id": "SJb7NI9MFjri"
      }
    },
    {
      "cell_type": "code",
      "execution_count": 7,
      "metadata": {
        "colab": {
          "base_uri": "https://localhost:8080/"
        },
        "id": "6tVGz0YIE9i_",
        "outputId": "6cabce84-8d5e-4b5d-d93a-bf702ef804c0"
      },
      "outputs": [
        {
          "output_type": "stream",
          "name": "stdout",
          "text": [
            "enter your age50\n",
            "entry fee is Rupees 180\n"
          ]
        }
      ],
      "source": [
        "age=int(input(\"enter your age\"))\n",
        "\n",
        "if age<4:\n",
        "  print(\"free entry\")\n",
        "\n",
        "elif 4<=age<=14:\n",
        "  print(\"entry fee is Rupees 100\")\n",
        "\n",
        "else:\n",
        "  print(\"entry fee is Rupees 180\")"
      ]
    },
    {
      "cell_type": "markdown",
      "source": [
        "Take length and breadth of a rectange as input from the user and check if the rectange is a square or not"
      ],
      "metadata": {
        "id": "6OrjptXrLoNy"
      }
    },
    {
      "cell_type": "code",
      "source": [
        "length=int(input(\"enter length\"))\n",
        "breadth=int(input(\"enter breadth\"))\n",
        "\n",
        "if length==breadth:\n",
        "  print(\"the rectange is a square\")\n",
        "\n",
        "else:\n",
        "  print(\"the rectange is not a square\")"
      ],
      "metadata": {
        "colab": {
          "base_uri": "https://localhost:8080/"
        },
        "id": "9ddWrej2KTPK",
        "outputId": "7dea8c48-84b5-4c3c-d97a-73a76514b0b3"
      },
      "execution_count": 9,
      "outputs": [
        {
          "output_type": "stream",
          "name": "stdout",
          "text": [
            "enter length5\n",
            "enter breadth5\n",
            "the rectange is a square\n"
          ]
        }
      ]
    },
    {
      "cell_type": "markdown",
      "source": [
        "Take a number as input from the user and check if the number is even or odd"
      ],
      "metadata": {
        "id": "4RPG4Q0fNtA6"
      }
    },
    {
      "cell_type": "code",
      "source": [
        "num=int(input(\"enter a number\"))\n",
        "\n",
        "if num%2==0: #remainder is 0\n",
        "  print(\"num is even\")\n",
        "\n",
        "else:\n",
        "  print(\"num is odd\")"
      ],
      "metadata": {
        "colab": {
          "base_uri": "https://localhost:8080/"
        },
        "id": "nhBB_t23N176",
        "outputId": "26285052-e31c-4b8c-c25d-181b3a91df8c"
      },
      "execution_count": 12,
      "outputs": [
        {
          "output_type": "stream",
          "name": "stdout",
          "text": [
            "enter a number10\n",
            "num is even\n"
          ]
        }
      ]
    },
    {
      "cell_type": "markdown",
      "source": [
        "The owner of a company decided to give 5% bonus to employees who have been working in the company for 5 years or more.\n",
        "\n",
        "Take current salary and number of years worked in the company as input from the user and display the  incremented salary (if any)"
      ],
      "metadata": {
        "id": "GcvZ27Y4SFez"
      }
    },
    {
      "cell_type": "code",
      "source": [
        "current_salary=int(input(\"enter your salary\"))\n",
        "years=int(input(\"enter years of exp.\"))\n",
        "\n",
        "if years>=5:\n",
        "  print(\"incremented salary is\",current_salary+0.05*current_salary)\n",
        "\n",
        "else:\n",
        "  print(\"no increment in the salary\",current_salary)"
      ],
      "metadata": {
        "colab": {
          "base_uri": "https://localhost:8080/"
        },
        "id": "ANDM30FmQIsd",
        "outputId": "79a17e5b-debd-4caa-b2c0-41a92995ca55"
      },
      "execution_count": 14,
      "outputs": [
        {
          "output_type": "stream",
          "name": "stdout",
          "text": [
            "enter your salary10000\n",
            "enter years of exp.4\n",
            "no increment in the salary 10000\n"
          ]
        }
      ]
    },
    {
      "cell_type": "code",
      "source": [
        "current_salary=int(input(\"enter your salary\"))\n",
        "years=int(input(\"enter years of exp.\"))\n",
        "bonus=0.05*current_salary\n",
        "incremented_salary=current_salary+bonus\n",
        "\n",
        "if years>=5:\n",
        "  print(\"incremented salary is\",incremented_salary)\n",
        "\n",
        "else:\n",
        "  print(\"no increment in the salary\",current_salary)"
      ],
      "metadata": {
        "colab": {
          "base_uri": "https://localhost:8080/"
        },
        "id": "-iHOLRqxU3nH",
        "outputId": "c2e9abbf-a034-4367-fa12-e65915c5df13"
      },
      "execution_count": 16,
      "outputs": [
        {
          "output_type": "stream",
          "name": "stdout",
          "text": [
            "enter your salary10000\n",
            "enter years of exp.6\n",
            "incremented salary is 10500.0\n"
          ]
        }
      ]
    },
    {
      "cell_type": "markdown",
      "source": [
        "A grocery store allows discount of 20% on items purchased worth 2000 rupees or more. Considering the price of each commodity to be 200 rupees, calculate the discounted price to be paid at the end.\n",
        "\n",
        "Take number of commodities purchases as input from the user."
      ],
      "metadata": {
        "id": "ZSCyCdr6Yq7P"
      }
    },
    {
      "cell_type": "code",
      "source": [
        "items=int(input(\"enter number of items\"))\n",
        "price=200*items\n",
        "\n",
        "if price>=2000:\n",
        "  print(\"final discounted price is\",price-0.2*price)\n",
        "\n",
        "else:\n",
        "  print(\"no discount, amount to be paid is\",price)"
      ],
      "metadata": {
        "colab": {
          "base_uri": "https://localhost:8080/"
        },
        "id": "PHylyTmuVNCH",
        "outputId": "20845486-7dc8-42b0-dec5-cdb66a72173b"
      },
      "execution_count": 19,
      "outputs": [
        {
          "output_type": "stream",
          "name": "stdout",
          "text": [
            "enter number of items5\n",
            "no discount, amount to be paid is 1000\n"
          ]
        }
      ]
    },
    {
      "cell_type": "markdown",
      "source": [
        "Nested Statements"
      ],
      "metadata": {
        "id": "atc0PXkyb6Qy"
      }
    },
    {
      "cell_type": "markdown",
      "source": [
        "Take input from user and check if the number is greater than 10 or less than 10. Incase it is greater than 10, check if it is greater than 20 also or not?"
      ],
      "metadata": {
        "id": "rlQHmMNwiGS-"
      }
    },
    {
      "cell_type": "code",
      "source": [
        "x=int(input(\"enter value for x\"))\n",
        "\n",
        "if x>10:\n",
        "\n",
        "  if x>20:\n",
        "    print(\"x is greater than 20\")\n",
        "\n",
        "  else:\n",
        "    print(\"x is less than 20 but greater than 10\")\n",
        "\n",
        "else:\n",
        "  print(\"x is less than 10\")"
      ],
      "metadata": {
        "colab": {
          "base_uri": "https://localhost:8080/"
        },
        "id": "QChI6n2FbiAN",
        "outputId": "8649db7f-23d2-4575-b94b-0257b68d52a9"
      },
      "execution_count": 22,
      "outputs": [
        {
          "output_type": "stream",
          "name": "stdout",
          "text": [
            "enter value for x25\n",
            "x is greater than 20\n"
          ]
        }
      ]
    },
    {
      "cell_type": "markdown",
      "source": [
        "Take a number as input from the user and check if the number is 0, positive or negative [using Nested Statements]"
      ],
      "metadata": {
        "id": "9xsTiaCUi_tV"
      }
    },
    {
      "cell_type": "code",
      "source": [
        "x=int(input(\"enter a number\"))\n",
        "\n",
        "if x>=0:\n",
        "  if x>0:\n",
        "    print(\"x is +ve\")\n",
        "\n",
        "  else:\n",
        "    print(\"x is zero\")\n",
        "\n",
        "else:\n",
        "  print(\"x is -ve\")"
      ],
      "metadata": {
        "colab": {
          "base_uri": "https://localhost:8080/"
        },
        "id": "NDe1wkYqio88",
        "outputId": "116440a8-2035-40e9-a029-808fdc4c0912"
      },
      "execution_count": 25,
      "outputs": [
        {
          "output_type": "stream",
          "name": "stdout",
          "text": [
            "enter a number-6\n",
            "x is -ve\n"
          ]
        }
      ]
    }
  ]
}